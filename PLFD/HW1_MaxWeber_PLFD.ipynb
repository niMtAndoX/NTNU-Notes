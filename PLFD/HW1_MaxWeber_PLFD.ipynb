{
 "cells": [
  {
   "cell_type": "markdown",
   "id": "366e9686",
   "metadata": {},
   "source": [
    "## Homework 1 - Predicting voting behavior based on Obesity-index  \n",
    "## Problem 2.7"
   ]
  },
  {
   "cell_type": "markdown",
   "id": "2ea209a4",
   "metadata": {},
   "source": [
    "### First lets get an overview of the present data:"
   ]
  },
  {
   "cell_type": "code",
   "execution_count": 52,
   "id": "315348b7",
   "metadata": {},
   "outputs": [
    {
     "data": {
      "text/html": [
       "<div>\n",
       "<style scoped>\n",
       "    .dataframe tbody tr th:only-of-type {\n",
       "        vertical-align: middle;\n",
       "    }\n",
       "\n",
       "    .dataframe tbody tr th {\n",
       "        vertical-align: top;\n",
       "    }\n",
       "\n",
       "    .dataframe thead th {\n",
       "        text-align: right;\n",
       "    }\n",
       "</style>\n",
       "<table border=\"1\" class=\"dataframe\">\n",
       "  <thead>\n",
       "    <tr style=\"text-align: right;\">\n",
       "      <th></th>\n",
       "      <th>state</th>\n",
       "      <th>obesity_index</th>\n",
       "      <th>vote</th>\n",
       "      <th>abbrv</th>\n",
       "    </tr>\n",
       "  </thead>\n",
       "  <tbody>\n",
       "    <tr>\n",
       "      <th>0</th>\n",
       "      <td>Alabama</td>\n",
       "      <td>22.6</td>\n",
       "      <td>R</td>\n",
       "      <td>AL</td>\n",
       "    </tr>\n",
       "    <tr>\n",
       "      <th>1</th>\n",
       "      <td>Alaska</td>\n",
       "      <td>20.9</td>\n",
       "      <td>R</td>\n",
       "      <td>AK</td>\n",
       "    </tr>\n",
       "    <tr>\n",
       "      <th>2</th>\n",
       "      <td>Arizona</td>\n",
       "      <td>14.9</td>\n",
       "      <td>R</td>\n",
       "      <td>AZ</td>\n",
       "    </tr>\n",
       "    <tr>\n",
       "      <th>3</th>\n",
       "      <td>Arkansas</td>\n",
       "      <td>21.9</td>\n",
       "      <td>R</td>\n",
       "      <td>AR</td>\n",
       "    </tr>\n",
       "    <tr>\n",
       "      <th>4</th>\n",
       "      <td>California</td>\n",
       "      <td>18.7</td>\n",
       "      <td>D</td>\n",
       "      <td>CA</td>\n",
       "    </tr>\n",
       "  </tbody>\n",
       "</table>\n",
       "</div>"
      ],
      "text/plain": [
       "        state  obesity_index vote  abbrv\n",
       "0     Alabama           22.6    R     AL\n",
       "1      Alaska           20.9    R     AK\n",
       "2     Arizona           14.9    R     AZ\n",
       "3    Arkansas           21.9    R     AR\n",
       "4  California           18.7    D     CA"
      ]
     },
     "execution_count": 52,
     "metadata": {},
     "output_type": "execute_result"
    }
   ],
   "source": [
    "import pandas as pd \n",
    "import plotly.express as px\n",
    "import matplotlib.pyplot as plt\n",
    "\n",
    "df_2000 = pd.read_csv(\"data/obesity_election_2000.csv\")\n",
    "df_2000[\"obesity_index\"] = df_2000[\"obesity_index\"].str.rstrip(\"%\").astype(float)\n",
    "\n",
    "df_2004 = pd.read_csv(\"data/obesity_election_2004.csv\")\n",
    "df_2004[\"obesity_index\"] = df_2004[\"obesity_index\"].str.rstrip(\"%\").astype(float)\n",
    "\n",
    "df_2000.head()\n"
   ]
  },
  {
   "cell_type": "code",
   "execution_count": 53,
   "id": "1c0fcd26",
   "metadata": {},
   "outputs": [
    {
     "data": {
      "application/vnd.plotly.v1+json": {
       "config": {
        "plotlyServerURL": "https://plot.ly"
       },
       "data": [
        {
         "hovertemplate": "<b>%{hovertext}</b><br><br>vote=R<br>xpos=%{x}<br>Obesity index=%{y}<extra></extra>",
         "hovertext": [
          "Alabama",
          "Alaska",
          "Arizona",
          "Arkansas",
          "Colorado",
          "Florida",
          "Georgia",
          "Idaho",
          "Indiana",
          "Kansas",
          "Kentucky",
          "Louisiana",
          "Mississippi",
          "Missouri",
          "Montana",
          "Nebraska",
          "Nevada",
          "New Hampshire",
          "North Carolina",
          "North Dakota",
          "Ohio",
          "Oklahoma",
          "South Carolina",
          "South Dakota",
          "Tennessee",
          "Texas",
          "Utah",
          "Virginia",
          "West Virginia",
          "Wyoming"
         ],
         "legendgroup": "R",
         "marker": {
          "color": "#d62728",
          "opacity": 0.85,
          "size": 9,
          "symbol": "circle"
         },
         "mode": "markers",
         "name": "R",
         "orientation": "v",
         "showlegend": true,
         "type": "scatter",
         "x": {
          "bdata": "P/QN8vaT8T8M+2TEvkvvP8lfnS7GEPI/iEut7wcj8T+GOwZtVb3yP4SsKaOube8/RwtHxveC7j8RGq5DI9TwP572jSYfWe8/3IcwEX1Q8D/5ThgOpfnqP66fTKAc4/E/CE5aQH6a8T9beafxc3vsPxWs+DLbne8/NRg1YJ++6j/HxlpOdQTsP6wzhqrqDfE/S2RTWviB7j+/ejpoN6bvP5gB7bk2bOw/bbGUF5i86z+YwJxJp0bvP0SlX9CN6vE/6IFui00n8T8O17+OpdbtPwg5EeDv6fE/SolNBSm07j8BV/q+GQ3xPwD0eEf+iuw/",
          "dtype": "f8"
         },
         "xaxis": "x",
         "y": {
          "bdata": "IbByaJHtzD+Nl24Sg8DKP99PjZduEsM/1HjpJjEIzD+PwvUoXI/CP1pkO99Pjcc/ku18PzVeyj9aZDvfT43HPz0K16NwPco/ppvEILByyD8tsp3vp8bLPyGwcmiR7cw/vHSTGARWzj8xCKwcWmTLPyuHFtnO98M/7nw/NV66yT97FK5H4XrEP8/3U+Olm8Q/jZduEoPAyj89CtejcD3KP5LtfD81Xso/7nw/NV66yT82XrpJDALLP1pkO99Pjcc/jZduEoPAyj8tsp3vp8bLP7+fGi/dJMY/Vg4tsp3vxz9kO99PjZfOP3Noke18P8U/",
          "dtype": "f8"
         },
         "yaxis": "y"
        },
        {
         "hovertemplate": "<b>%{hovertext}</b><br><br>vote=D<br>xpos=%{x}<br>Obesity index=%{y}<extra></extra>",
         "hovertext": [
          "California",
          "Connecticut",
          "Delaware",
          "DC",
          "Hawaii",
          "Illinois",
          "Iowa",
          "Maine",
          "Maryland",
          "Massachusetts",
          "Michigan",
          "Minnesota",
          "New Jersey",
          "New Mexico",
          "New York",
          "Oregon",
          "Pennsylvania",
          "Rhode Island",
          "Vermont",
          "Washington",
          "Wisconsin"
         ],
         "legendgroup": "D",
         "marker": {
          "color": "#1f77b4",
          "opacity": 0.85,
          "size": 9,
          "symbol": "circle"
         },
         "mode": "markers",
         "name": "D",
         "orientation": "v",
         "showlegend": true,
         "type": "scatter",
         "x": {
          "bdata": "fTxiX0ezwr9ocrT8DhG4PwC524waXbo/AztjOfMiwb8KA6IcU6rDPzjEbN7mvr0/h68J9T4jub8cLI+vtESoPxy1I8ENybc/YBSydlPQqr9Kz8pvlLDFP9xBswhyHcI/AKnF66mOtj9exgse+IrFPzGynJxLDbC/QFBDqIrpgb8a+EdNBCu5vzQCkV7UTK8/IMpvFUsWvD+UwJhx94Gzv2rRPhKnmcC/",
          "dtype": "f8"
         },
         "xaxis": "x",
         "y": {
          "bdata": "Vg4tsp3vxz97FK5H4XrEPxfZzvdT48U/7nw/NV66yT9/arx0kxjEP+kmMQisHMo/jZduEoPAyj/91HjpJjHIP0oMAiuHFsk/L90kBoGVwz99PzVeuknMP8qhRbbz/cQ/w/UoXI/CxT8Sg8DKoUXGPxfZzvdT48U/Rbbz/dR4yT+WQ4ts5/vJP24Sg8DKocU/w/UoXI/CxT9aZDvfT43HP6FFtvP91Mg/",
          "dtype": "f8"
         },
         "yaxis": "y"
        }
       ],
       "layout": {
        "legend": {
         "title": {
          "text": "vote"
         },
         "tracegroupgap": 0
        },
        "template": {
         "data": {
          "bar": [
           {
            "error_x": {
             "color": "#2a3f5f"
            },
            "error_y": {
             "color": "#2a3f5f"
            },
            "marker": {
             "line": {
              "color": "#E5ECF6",
              "width": 0.5
             },
             "pattern": {
              "fillmode": "overlay",
              "size": 10,
              "solidity": 0.2
             }
            },
            "type": "bar"
           }
          ],
          "barpolar": [
           {
            "marker": {
             "line": {
              "color": "#E5ECF6",
              "width": 0.5
             },
             "pattern": {
              "fillmode": "overlay",
              "size": 10,
              "solidity": 0.2
             }
            },
            "type": "barpolar"
           }
          ],
          "carpet": [
           {
            "aaxis": {
             "endlinecolor": "#2a3f5f",
             "gridcolor": "white",
             "linecolor": "white",
             "minorgridcolor": "white",
             "startlinecolor": "#2a3f5f"
            },
            "baxis": {
             "endlinecolor": "#2a3f5f",
             "gridcolor": "white",
             "linecolor": "white",
             "minorgridcolor": "white",
             "startlinecolor": "#2a3f5f"
            },
            "type": "carpet"
           }
          ],
          "choropleth": [
           {
            "colorbar": {
             "outlinewidth": 0,
             "ticks": ""
            },
            "type": "choropleth"
           }
          ],
          "contour": [
           {
            "colorbar": {
             "outlinewidth": 0,
             "ticks": ""
            },
            "colorscale": [
             [
              0,
              "#0d0887"
             ],
             [
              0.1111111111111111,
              "#46039f"
             ],
             [
              0.2222222222222222,
              "#7201a8"
             ],
             [
              0.3333333333333333,
              "#9c179e"
             ],
             [
              0.4444444444444444,
              "#bd3786"
             ],
             [
              0.5555555555555556,
              "#d8576b"
             ],
             [
              0.6666666666666666,
              "#ed7953"
             ],
             [
              0.7777777777777778,
              "#fb9f3a"
             ],
             [
              0.8888888888888888,
              "#fdca26"
             ],
             [
              1,
              "#f0f921"
             ]
            ],
            "type": "contour"
           }
          ],
          "contourcarpet": [
           {
            "colorbar": {
             "outlinewidth": 0,
             "ticks": ""
            },
            "type": "contourcarpet"
           }
          ],
          "heatmap": [
           {
            "colorbar": {
             "outlinewidth": 0,
             "ticks": ""
            },
            "colorscale": [
             [
              0,
              "#0d0887"
             ],
             [
              0.1111111111111111,
              "#46039f"
             ],
             [
              0.2222222222222222,
              "#7201a8"
             ],
             [
              0.3333333333333333,
              "#9c179e"
             ],
             [
              0.4444444444444444,
              "#bd3786"
             ],
             [
              0.5555555555555556,
              "#d8576b"
             ],
             [
              0.6666666666666666,
              "#ed7953"
             ],
             [
              0.7777777777777778,
              "#fb9f3a"
             ],
             [
              0.8888888888888888,
              "#fdca26"
             ],
             [
              1,
              "#f0f921"
             ]
            ],
            "type": "heatmap"
           }
          ],
          "histogram": [
           {
            "marker": {
             "pattern": {
              "fillmode": "overlay",
              "size": 10,
              "solidity": 0.2
             }
            },
            "type": "histogram"
           }
          ],
          "histogram2d": [
           {
            "colorbar": {
             "outlinewidth": 0,
             "ticks": ""
            },
            "colorscale": [
             [
              0,
              "#0d0887"
             ],
             [
              0.1111111111111111,
              "#46039f"
             ],
             [
              0.2222222222222222,
              "#7201a8"
             ],
             [
              0.3333333333333333,
              "#9c179e"
             ],
             [
              0.4444444444444444,
              "#bd3786"
             ],
             [
              0.5555555555555556,
              "#d8576b"
             ],
             [
              0.6666666666666666,
              "#ed7953"
             ],
             [
              0.7777777777777778,
              "#fb9f3a"
             ],
             [
              0.8888888888888888,
              "#fdca26"
             ],
             [
              1,
              "#f0f921"
             ]
            ],
            "type": "histogram2d"
           }
          ],
          "histogram2dcontour": [
           {
            "colorbar": {
             "outlinewidth": 0,
             "ticks": ""
            },
            "colorscale": [
             [
              0,
              "#0d0887"
             ],
             [
              0.1111111111111111,
              "#46039f"
             ],
             [
              0.2222222222222222,
              "#7201a8"
             ],
             [
              0.3333333333333333,
              "#9c179e"
             ],
             [
              0.4444444444444444,
              "#bd3786"
             ],
             [
              0.5555555555555556,
              "#d8576b"
             ],
             [
              0.6666666666666666,
              "#ed7953"
             ],
             [
              0.7777777777777778,
              "#fb9f3a"
             ],
             [
              0.8888888888888888,
              "#fdca26"
             ],
             [
              1,
              "#f0f921"
             ]
            ],
            "type": "histogram2dcontour"
           }
          ],
          "mesh3d": [
           {
            "colorbar": {
             "outlinewidth": 0,
             "ticks": ""
            },
            "type": "mesh3d"
           }
          ],
          "parcoords": [
           {
            "line": {
             "colorbar": {
              "outlinewidth": 0,
              "ticks": ""
             }
            },
            "type": "parcoords"
           }
          ],
          "pie": [
           {
            "automargin": true,
            "type": "pie"
           }
          ],
          "scatter": [
           {
            "fillpattern": {
             "fillmode": "overlay",
             "size": 10,
             "solidity": 0.2
            },
            "type": "scatter"
           }
          ],
          "scatter3d": [
           {
            "line": {
             "colorbar": {
              "outlinewidth": 0,
              "ticks": ""
             }
            },
            "marker": {
             "colorbar": {
              "outlinewidth": 0,
              "ticks": ""
             }
            },
            "type": "scatter3d"
           }
          ],
          "scattercarpet": [
           {
            "marker": {
             "colorbar": {
              "outlinewidth": 0,
              "ticks": ""
             }
            },
            "type": "scattercarpet"
           }
          ],
          "scattergeo": [
           {
            "marker": {
             "colorbar": {
              "outlinewidth": 0,
              "ticks": ""
             }
            },
            "type": "scattergeo"
           }
          ],
          "scattergl": [
           {
            "marker": {
             "colorbar": {
              "outlinewidth": 0,
              "ticks": ""
             }
            },
            "type": "scattergl"
           }
          ],
          "scattermap": [
           {
            "marker": {
             "colorbar": {
              "outlinewidth": 0,
              "ticks": ""
             }
            },
            "type": "scattermap"
           }
          ],
          "scattermapbox": [
           {
            "marker": {
             "colorbar": {
              "outlinewidth": 0,
              "ticks": ""
             }
            },
            "type": "scattermapbox"
           }
          ],
          "scatterpolar": [
           {
            "marker": {
             "colorbar": {
              "outlinewidth": 0,
              "ticks": ""
             }
            },
            "type": "scatterpolar"
           }
          ],
          "scatterpolargl": [
           {
            "marker": {
             "colorbar": {
              "outlinewidth": 0,
              "ticks": ""
             }
            },
            "type": "scatterpolargl"
           }
          ],
          "scatterternary": [
           {
            "marker": {
             "colorbar": {
              "outlinewidth": 0,
              "ticks": ""
             }
            },
            "type": "scatterternary"
           }
          ],
          "surface": [
           {
            "colorbar": {
             "outlinewidth": 0,
             "ticks": ""
            },
            "colorscale": [
             [
              0,
              "#0d0887"
             ],
             [
              0.1111111111111111,
              "#46039f"
             ],
             [
              0.2222222222222222,
              "#7201a8"
             ],
             [
              0.3333333333333333,
              "#9c179e"
             ],
             [
              0.4444444444444444,
              "#bd3786"
             ],
             [
              0.5555555555555556,
              "#d8576b"
             ],
             [
              0.6666666666666666,
              "#ed7953"
             ],
             [
              0.7777777777777778,
              "#fb9f3a"
             ],
             [
              0.8888888888888888,
              "#fdca26"
             ],
             [
              1,
              "#f0f921"
             ]
            ],
            "type": "surface"
           }
          ],
          "table": [
           {
            "cells": {
             "fill": {
              "color": "#EBF0F8"
             },
             "line": {
              "color": "white"
             }
            },
            "header": {
             "fill": {
              "color": "#C8D4E3"
             },
             "line": {
              "color": "white"
             }
            },
            "type": "table"
           }
          ]
         },
         "layout": {
          "annotationdefaults": {
           "arrowcolor": "#2a3f5f",
           "arrowhead": 0,
           "arrowwidth": 1
          },
          "autotypenumbers": "strict",
          "coloraxis": {
           "colorbar": {
            "outlinewidth": 0,
            "ticks": ""
           }
          },
          "colorscale": {
           "diverging": [
            [
             0,
             "#8e0152"
            ],
            [
             0.1,
             "#c51b7d"
            ],
            [
             0.2,
             "#de77ae"
            ],
            [
             0.3,
             "#f1b6da"
            ],
            [
             0.4,
             "#fde0ef"
            ],
            [
             0.5,
             "#f7f7f7"
            ],
            [
             0.6,
             "#e6f5d0"
            ],
            [
             0.7,
             "#b8e186"
            ],
            [
             0.8,
             "#7fbc41"
            ],
            [
             0.9,
             "#4d9221"
            ],
            [
             1,
             "#276419"
            ]
           ],
           "sequential": [
            [
             0,
             "#0d0887"
            ],
            [
             0.1111111111111111,
             "#46039f"
            ],
            [
             0.2222222222222222,
             "#7201a8"
            ],
            [
             0.3333333333333333,
             "#9c179e"
            ],
            [
             0.4444444444444444,
             "#bd3786"
            ],
            [
             0.5555555555555556,
             "#d8576b"
            ],
            [
             0.6666666666666666,
             "#ed7953"
            ],
            [
             0.7777777777777778,
             "#fb9f3a"
            ],
            [
             0.8888888888888888,
             "#fdca26"
            ],
            [
             1,
             "#f0f921"
            ]
           ],
           "sequentialminus": [
            [
             0,
             "#0d0887"
            ],
            [
             0.1111111111111111,
             "#46039f"
            ],
            [
             0.2222222222222222,
             "#7201a8"
            ],
            [
             0.3333333333333333,
             "#9c179e"
            ],
            [
             0.4444444444444444,
             "#bd3786"
            ],
            [
             0.5555555555555556,
             "#d8576b"
            ],
            [
             0.6666666666666666,
             "#ed7953"
            ],
            [
             0.7777777777777778,
             "#fb9f3a"
            ],
            [
             0.8888888888888888,
             "#fdca26"
            ],
            [
             1,
             "#f0f921"
            ]
           ]
          },
          "colorway": [
           "#636efa",
           "#EF553B",
           "#00cc96",
           "#ab63fa",
           "#FFA15A",
           "#19d3f3",
           "#FF6692",
           "#B6E880",
           "#FF97FF",
           "#FECB52"
          ],
          "font": {
           "color": "#2a3f5f"
          },
          "geo": {
           "bgcolor": "white",
           "lakecolor": "white",
           "landcolor": "#E5ECF6",
           "showlakes": true,
           "showland": true,
           "subunitcolor": "white"
          },
          "hoverlabel": {
           "align": "left"
          },
          "hovermode": "closest",
          "mapbox": {
           "style": "light"
          },
          "paper_bgcolor": "white",
          "plot_bgcolor": "#E5ECF6",
          "polar": {
           "angularaxis": {
            "gridcolor": "white",
            "linecolor": "white",
            "ticks": ""
           },
           "bgcolor": "#E5ECF6",
           "radialaxis": {
            "gridcolor": "white",
            "linecolor": "white",
            "ticks": ""
           }
          },
          "scene": {
           "xaxis": {
            "backgroundcolor": "#E5ECF6",
            "gridcolor": "white",
            "gridwidth": 2,
            "linecolor": "white",
            "showbackground": true,
            "ticks": "",
            "zerolinecolor": "white"
           },
           "yaxis": {
            "backgroundcolor": "#E5ECF6",
            "gridcolor": "white",
            "gridwidth": 2,
            "linecolor": "white",
            "showbackground": true,
            "ticks": "",
            "zerolinecolor": "white"
           },
           "zaxis": {
            "backgroundcolor": "#E5ECF6",
            "gridcolor": "white",
            "gridwidth": 2,
            "linecolor": "white",
            "showbackground": true,
            "ticks": "",
            "zerolinecolor": "white"
           }
          },
          "shapedefaults": {
           "line": {
            "color": "#2a3f5f"
           }
          },
          "ternary": {
           "aaxis": {
            "gridcolor": "white",
            "linecolor": "white",
            "ticks": ""
           },
           "baxis": {
            "gridcolor": "white",
            "linecolor": "white",
            "ticks": ""
           },
           "bgcolor": "#E5ECF6",
           "caxis": {
            "gridcolor": "white",
            "linecolor": "white",
            "ticks": ""
           }
          },
          "title": {
           "x": 0.05
          },
          "xaxis": {
           "automargin": true,
           "gridcolor": "white",
           "linecolor": "white",
           "ticks": "",
           "title": {
            "standoff": 15
           },
           "zerolinecolor": "white",
           "zerolinewidth": 2
          },
          "yaxis": {
           "automargin": true,
           "gridcolor": "white",
           "linecolor": "white",
           "ticks": "",
           "title": {
            "standoff": 15
           },
           "zerolinecolor": "white",
           "zerolinewidth": 2
          }
         }
        },
        "title": {
         "text": "Year 2000 Election"
        },
        "xaxis": {
         "anchor": "y",
         "domain": [
          0,
          1
         ],
         "range": [
          -0.5,
          1.5
         ],
         "tickmode": "array",
         "ticktext": [
          "Democrat",
          "Republican"
         ],
         "tickvals": [
          0,
          1
         ],
         "title": {
          "text": ""
         }
        },
        "yaxis": {
         "anchor": "x",
         "domain": [
          0,
          1
         ],
         "rangemode": "tozero",
         "tickformat": ".0%",
         "title": {
          "text": "Obesity index"
         }
        }
       }
      }
     },
     "metadata": {},
     "output_type": "display_data"
    },
    {
     "data": {
      "application/vnd.plotly.v1+json": {
       "config": {
        "plotlyServerURL": "https://plot.ly"
       },
       "data": [
        {
         "hovertemplate": "<b>%{hovertext}</b><br><br>vote=R<br>xpos=%{x}<br>obesity index=%{y}<extra></extra>",
         "hovertext": [
          "Alabama",
          "Alaska",
          "Arizona",
          "Arkansas",
          "Colorado",
          "Florida",
          "Georgia",
          "Hawaii",
          "Idaho",
          "Indiana",
          "Iowa",
          "Kansas",
          "Kentucky",
          "Louisiana",
          "Mississippi",
          "Missouri",
          "Montana",
          "Nebraska",
          "Nevada",
          "New Mexico",
          "North Carolina",
          "North Dakota",
          "Ohio",
          "Oklahoma",
          "South Carolina",
          "South Dakota",
          "Tennessee",
          "Texas",
          "Utah",
          "Virginia",
          "West Virginia",
          "Wyoming"
         ],
         "legendgroup": "R",
         "marker": {
          "color": "#d62728",
          "opacity": 0.85,
          "size": 9,
          "symbol": "circle"
         },
         "mode": "markers",
         "name": "R",
         "orientation": "v",
         "showlegend": true,
         "type": "scatter",
         "x": {
          "bdata": "P/QN8vaT8T8M+2TEvkvvP8lfnS7GEPI/iEut7wcj8T+GOwZtVb3yP4SsKaOube8/RwtHxveC7j9hQJRjSnXyPxEarkMj1PA/nvaNJh9Z7z8Pyl4hmNvsP9yHMBF9UPA/+U4YDqX56j+un0ygHOPxPwhOWkB+mvE/W3mn8XN77D8VrPgy253vPzUYNWCfvuo/x8ZaTnUE7D/MeMEDX7HyP0tkU1r4ge4/v3o6aDem7z+YAe25NmzsP22xlBeYvOs/mMCcSadG7z9EpV/QjerxP+iBbotNJ/E/Dte/jqXW7T8IORHg7+nxP0qJTQUptO4/AVf6vhkN8T8A9HhH/orsPw==",
          "dtype": "f8"
         },
         "xaxis": "x",
         "y": {
          "bdata": "7Xw/NV660T8UrkfhehTOP5ZDi2zn+8k/AAAAAAAA0D/KoUW28/3EP+XQItv5fso/XI/C9Shczz9/arx0kxjEP42XbhKDwMo/VOOlm8Qg0D/AyqFFtvPNPxxaZDvfT80//tR46SYx0D9QjZduEoPQP5ZDi2zn+9E/ZDvfT42Xzj+mm8QgsHLIP8DKoUW2880/3SQGgZVDyz89CtejcD3KP2Q730+Nl84/ZDvfT42Xzj8IrBxaZDvPPw0CK4cW2c4/qvHSTWIQ0D8hsHJoke3MP/yp8dJNYtA//tR46SYx0D9KDAIrhxbJPxxaZDvfT80/RIts5/up0T/ufD81XrrJPw==",
          "dtype": "f8"
         },
         "yaxis": "y"
        },
        {
         "hovertemplate": "<b>%{hovertext}</b><br><br>vote=D<br>xpos=%{x}<br>obesity index=%{y}<extra></extra>",
         "hovertext": [
          "California",
          "Connecticut",
          "Delaware",
          "DC",
          "Illinois",
          "Maine",
          "Maryland",
          "Massachusetts",
          "Michigan",
          "Minnesota",
          "New Hampshire",
          "New Jersey",
          "New York",
          "Oregon",
          "Pennsylvania",
          "Rhode Island",
          "Vermont",
          "Washington",
          "Wisconsin"
         ],
         "legendgroup": "D",
         "marker": {
          "color": "#1f77b4",
          "opacity": 0.85,
          "size": 9,
          "symbol": "circle"
         },
         "mode": "markers",
         "name": "D",
         "orientation": "v",
         "showlegend": true,
         "type": "scatter",
         "x": {
          "bdata": "fTxiX0ezwr9ocrT8DhG4PwC524waXbo/AztjOfMiwb84xGze5r69Pxwsj6+0RKg/HLUjwQ3Jtz9gFLJ2U9Cqv0rPym+UsMU/3EGzCHIdwj/COmOoqt6wPwCpxeupjrY/MbKcnEsNsL9AUEOoiumBvxr4R00EK7m/NAKRXtRMrz8gym8VSxa8P5TAmHH3gbO/atE+EqeZwL8=",
          "dtype": "f8"
         },
         "xaxis": "x",
         "y": {
          "bdata": "hetRuB6Fyz/91HjpJjHIP83MzMzMzMw/iUFg5dAiyz8cWmQ730/NP90kBoGVQ8s/LbKd76fGyz9jEFg5tMjGP/7UeOkmMdA/IbByaJHtzD9FtvP91HjJP5ZDi2zn+8k/iUFg5dAiyz/hehSuR+HKP7gehetRuM4/AyuHFtnOxz+mm8QgsHLIPy2yne+nxss/1HjpJjEIzD8=",
          "dtype": "f8"
         },
         "yaxis": "y"
        }
       ],
       "layout": {
        "legend": {
         "title": {
          "text": "vote"
         },
         "tracegroupgap": 0
        },
        "template": {
         "data": {
          "bar": [
           {
            "error_x": {
             "color": "#2a3f5f"
            },
            "error_y": {
             "color": "#2a3f5f"
            },
            "marker": {
             "line": {
              "color": "#E5ECF6",
              "width": 0.5
             },
             "pattern": {
              "fillmode": "overlay",
              "size": 10,
              "solidity": 0.2
             }
            },
            "type": "bar"
           }
          ],
          "barpolar": [
           {
            "marker": {
             "line": {
              "color": "#E5ECF6",
              "width": 0.5
             },
             "pattern": {
              "fillmode": "overlay",
              "size": 10,
              "solidity": 0.2
             }
            },
            "type": "barpolar"
           }
          ],
          "carpet": [
           {
            "aaxis": {
             "endlinecolor": "#2a3f5f",
             "gridcolor": "white",
             "linecolor": "white",
             "minorgridcolor": "white",
             "startlinecolor": "#2a3f5f"
            },
            "baxis": {
             "endlinecolor": "#2a3f5f",
             "gridcolor": "white",
             "linecolor": "white",
             "minorgridcolor": "white",
             "startlinecolor": "#2a3f5f"
            },
            "type": "carpet"
           }
          ],
          "choropleth": [
           {
            "colorbar": {
             "outlinewidth": 0,
             "ticks": ""
            },
            "type": "choropleth"
           }
          ],
          "contour": [
           {
            "colorbar": {
             "outlinewidth": 0,
             "ticks": ""
            },
            "colorscale": [
             [
              0,
              "#0d0887"
             ],
             [
              0.1111111111111111,
              "#46039f"
             ],
             [
              0.2222222222222222,
              "#7201a8"
             ],
             [
              0.3333333333333333,
              "#9c179e"
             ],
             [
              0.4444444444444444,
              "#bd3786"
             ],
             [
              0.5555555555555556,
              "#d8576b"
             ],
             [
              0.6666666666666666,
              "#ed7953"
             ],
             [
              0.7777777777777778,
              "#fb9f3a"
             ],
             [
              0.8888888888888888,
              "#fdca26"
             ],
             [
              1,
              "#f0f921"
             ]
            ],
            "type": "contour"
           }
          ],
          "contourcarpet": [
           {
            "colorbar": {
             "outlinewidth": 0,
             "ticks": ""
            },
            "type": "contourcarpet"
           }
          ],
          "heatmap": [
           {
            "colorbar": {
             "outlinewidth": 0,
             "ticks": ""
            },
            "colorscale": [
             [
              0,
              "#0d0887"
             ],
             [
              0.1111111111111111,
              "#46039f"
             ],
             [
              0.2222222222222222,
              "#7201a8"
             ],
             [
              0.3333333333333333,
              "#9c179e"
             ],
             [
              0.4444444444444444,
              "#bd3786"
             ],
             [
              0.5555555555555556,
              "#d8576b"
             ],
             [
              0.6666666666666666,
              "#ed7953"
             ],
             [
              0.7777777777777778,
              "#fb9f3a"
             ],
             [
              0.8888888888888888,
              "#fdca26"
             ],
             [
              1,
              "#f0f921"
             ]
            ],
            "type": "heatmap"
           }
          ],
          "histogram": [
           {
            "marker": {
             "pattern": {
              "fillmode": "overlay",
              "size": 10,
              "solidity": 0.2
             }
            },
            "type": "histogram"
           }
          ],
          "histogram2d": [
           {
            "colorbar": {
             "outlinewidth": 0,
             "ticks": ""
            },
            "colorscale": [
             [
              0,
              "#0d0887"
             ],
             [
              0.1111111111111111,
              "#46039f"
             ],
             [
              0.2222222222222222,
              "#7201a8"
             ],
             [
              0.3333333333333333,
              "#9c179e"
             ],
             [
              0.4444444444444444,
              "#bd3786"
             ],
             [
              0.5555555555555556,
              "#d8576b"
             ],
             [
              0.6666666666666666,
              "#ed7953"
             ],
             [
              0.7777777777777778,
              "#fb9f3a"
             ],
             [
              0.8888888888888888,
              "#fdca26"
             ],
             [
              1,
              "#f0f921"
             ]
            ],
            "type": "histogram2d"
           }
          ],
          "histogram2dcontour": [
           {
            "colorbar": {
             "outlinewidth": 0,
             "ticks": ""
            },
            "colorscale": [
             [
              0,
              "#0d0887"
             ],
             [
              0.1111111111111111,
              "#46039f"
             ],
             [
              0.2222222222222222,
              "#7201a8"
             ],
             [
              0.3333333333333333,
              "#9c179e"
             ],
             [
              0.4444444444444444,
              "#bd3786"
             ],
             [
              0.5555555555555556,
              "#d8576b"
             ],
             [
              0.6666666666666666,
              "#ed7953"
             ],
             [
              0.7777777777777778,
              "#fb9f3a"
             ],
             [
              0.8888888888888888,
              "#fdca26"
             ],
             [
              1,
              "#f0f921"
             ]
            ],
            "type": "histogram2dcontour"
           }
          ],
          "mesh3d": [
           {
            "colorbar": {
             "outlinewidth": 0,
             "ticks": ""
            },
            "type": "mesh3d"
           }
          ],
          "parcoords": [
           {
            "line": {
             "colorbar": {
              "outlinewidth": 0,
              "ticks": ""
             }
            },
            "type": "parcoords"
           }
          ],
          "pie": [
           {
            "automargin": true,
            "type": "pie"
           }
          ],
          "scatter": [
           {
            "fillpattern": {
             "fillmode": "overlay",
             "size": 10,
             "solidity": 0.2
            },
            "type": "scatter"
           }
          ],
          "scatter3d": [
           {
            "line": {
             "colorbar": {
              "outlinewidth": 0,
              "ticks": ""
             }
            },
            "marker": {
             "colorbar": {
              "outlinewidth": 0,
              "ticks": ""
             }
            },
            "type": "scatter3d"
           }
          ],
          "scattercarpet": [
           {
            "marker": {
             "colorbar": {
              "outlinewidth": 0,
              "ticks": ""
             }
            },
            "type": "scattercarpet"
           }
          ],
          "scattergeo": [
           {
            "marker": {
             "colorbar": {
              "outlinewidth": 0,
              "ticks": ""
             }
            },
            "type": "scattergeo"
           }
          ],
          "scattergl": [
           {
            "marker": {
             "colorbar": {
              "outlinewidth": 0,
              "ticks": ""
             }
            },
            "type": "scattergl"
           }
          ],
          "scattermap": [
           {
            "marker": {
             "colorbar": {
              "outlinewidth": 0,
              "ticks": ""
             }
            },
            "type": "scattermap"
           }
          ],
          "scattermapbox": [
           {
            "marker": {
             "colorbar": {
              "outlinewidth": 0,
              "ticks": ""
             }
            },
            "type": "scattermapbox"
           }
          ],
          "scatterpolar": [
           {
            "marker": {
             "colorbar": {
              "outlinewidth": 0,
              "ticks": ""
             }
            },
            "type": "scatterpolar"
           }
          ],
          "scatterpolargl": [
           {
            "marker": {
             "colorbar": {
              "outlinewidth": 0,
              "ticks": ""
             }
            },
            "type": "scatterpolargl"
           }
          ],
          "scatterternary": [
           {
            "marker": {
             "colorbar": {
              "outlinewidth": 0,
              "ticks": ""
             }
            },
            "type": "scatterternary"
           }
          ],
          "surface": [
           {
            "colorbar": {
             "outlinewidth": 0,
             "ticks": ""
            },
            "colorscale": [
             [
              0,
              "#0d0887"
             ],
             [
              0.1111111111111111,
              "#46039f"
             ],
             [
              0.2222222222222222,
              "#7201a8"
             ],
             [
              0.3333333333333333,
              "#9c179e"
             ],
             [
              0.4444444444444444,
              "#bd3786"
             ],
             [
              0.5555555555555556,
              "#d8576b"
             ],
             [
              0.6666666666666666,
              "#ed7953"
             ],
             [
              0.7777777777777778,
              "#fb9f3a"
             ],
             [
              0.8888888888888888,
              "#fdca26"
             ],
             [
              1,
              "#f0f921"
             ]
            ],
            "type": "surface"
           }
          ],
          "table": [
           {
            "cells": {
             "fill": {
              "color": "#EBF0F8"
             },
             "line": {
              "color": "white"
             }
            },
            "header": {
             "fill": {
              "color": "#C8D4E3"
             },
             "line": {
              "color": "white"
             }
            },
            "type": "table"
           }
          ]
         },
         "layout": {
          "annotationdefaults": {
           "arrowcolor": "#2a3f5f",
           "arrowhead": 0,
           "arrowwidth": 1
          },
          "autotypenumbers": "strict",
          "coloraxis": {
           "colorbar": {
            "outlinewidth": 0,
            "ticks": ""
           }
          },
          "colorscale": {
           "diverging": [
            [
             0,
             "#8e0152"
            ],
            [
             0.1,
             "#c51b7d"
            ],
            [
             0.2,
             "#de77ae"
            ],
            [
             0.3,
             "#f1b6da"
            ],
            [
             0.4,
             "#fde0ef"
            ],
            [
             0.5,
             "#f7f7f7"
            ],
            [
             0.6,
             "#e6f5d0"
            ],
            [
             0.7,
             "#b8e186"
            ],
            [
             0.8,
             "#7fbc41"
            ],
            [
             0.9,
             "#4d9221"
            ],
            [
             1,
             "#276419"
            ]
           ],
           "sequential": [
            [
             0,
             "#0d0887"
            ],
            [
             0.1111111111111111,
             "#46039f"
            ],
            [
             0.2222222222222222,
             "#7201a8"
            ],
            [
             0.3333333333333333,
             "#9c179e"
            ],
            [
             0.4444444444444444,
             "#bd3786"
            ],
            [
             0.5555555555555556,
             "#d8576b"
            ],
            [
             0.6666666666666666,
             "#ed7953"
            ],
            [
             0.7777777777777778,
             "#fb9f3a"
            ],
            [
             0.8888888888888888,
             "#fdca26"
            ],
            [
             1,
             "#f0f921"
            ]
           ],
           "sequentialminus": [
            [
             0,
             "#0d0887"
            ],
            [
             0.1111111111111111,
             "#46039f"
            ],
            [
             0.2222222222222222,
             "#7201a8"
            ],
            [
             0.3333333333333333,
             "#9c179e"
            ],
            [
             0.4444444444444444,
             "#bd3786"
            ],
            [
             0.5555555555555556,
             "#d8576b"
            ],
            [
             0.6666666666666666,
             "#ed7953"
            ],
            [
             0.7777777777777778,
             "#fb9f3a"
            ],
            [
             0.8888888888888888,
             "#fdca26"
            ],
            [
             1,
             "#f0f921"
            ]
           ]
          },
          "colorway": [
           "#636efa",
           "#EF553B",
           "#00cc96",
           "#ab63fa",
           "#FFA15A",
           "#19d3f3",
           "#FF6692",
           "#B6E880",
           "#FF97FF",
           "#FECB52"
          ],
          "font": {
           "color": "#2a3f5f"
          },
          "geo": {
           "bgcolor": "white",
           "lakecolor": "white",
           "landcolor": "#E5ECF6",
           "showlakes": true,
           "showland": true,
           "subunitcolor": "white"
          },
          "hoverlabel": {
           "align": "left"
          },
          "hovermode": "closest",
          "mapbox": {
           "style": "light"
          },
          "paper_bgcolor": "white",
          "plot_bgcolor": "#E5ECF6",
          "polar": {
           "angularaxis": {
            "gridcolor": "white",
            "linecolor": "white",
            "ticks": ""
           },
           "bgcolor": "#E5ECF6",
           "radialaxis": {
            "gridcolor": "white",
            "linecolor": "white",
            "ticks": ""
           }
          },
          "scene": {
           "xaxis": {
            "backgroundcolor": "#E5ECF6",
            "gridcolor": "white",
            "gridwidth": 2,
            "linecolor": "white",
            "showbackground": true,
            "ticks": "",
            "zerolinecolor": "white"
           },
           "yaxis": {
            "backgroundcolor": "#E5ECF6",
            "gridcolor": "white",
            "gridwidth": 2,
            "linecolor": "white",
            "showbackground": true,
            "ticks": "",
            "zerolinecolor": "white"
           },
           "zaxis": {
            "backgroundcolor": "#E5ECF6",
            "gridcolor": "white",
            "gridwidth": 2,
            "linecolor": "white",
            "showbackground": true,
            "ticks": "",
            "zerolinecolor": "white"
           }
          },
          "shapedefaults": {
           "line": {
            "color": "#2a3f5f"
           }
          },
          "ternary": {
           "aaxis": {
            "gridcolor": "white",
            "linecolor": "white",
            "ticks": ""
           },
           "baxis": {
            "gridcolor": "white",
            "linecolor": "white",
            "ticks": ""
           },
           "bgcolor": "#E5ECF6",
           "caxis": {
            "gridcolor": "white",
            "linecolor": "white",
            "ticks": ""
           }
          },
          "title": {
           "x": 0.05
          },
          "xaxis": {
           "automargin": true,
           "gridcolor": "white",
           "linecolor": "white",
           "ticks": "",
           "title": {
            "standoff": 15
           },
           "zerolinecolor": "white",
           "zerolinewidth": 2
          },
          "yaxis": {
           "automargin": true,
           "gridcolor": "white",
           "linecolor": "white",
           "ticks": "",
           "title": {
            "standoff": 15
           },
           "zerolinecolor": "white",
           "zerolinewidth": 2
          }
         }
        },
        "title": {
         "text": "Year 2004 Election"
        },
        "xaxis": {
         "anchor": "y",
         "domain": [
          0,
          1
         ],
         "range": [
          -0.5,
          1.5
         ],
         "tickmode": "array",
         "ticktext": [
          "Democrat",
          "Republican"
         ],
         "tickvals": [
          0,
          1
         ],
         "title": {
          "text": ""
         }
        },
        "yaxis": {
         "anchor": "x",
         "domain": [
          0,
          1
         ],
         "rangemode": "tozero",
         "tickformat": ".0%",
         "title": {
          "text": "Obesity index"
         }
        }
       }
      }
     },
     "metadata": {},
     "output_type": "display_data"
    }
   ],
   "source": [
    "import numpy as np\n",
    "\n",
    "df_2000[\"vote\"] = df_2000[\"vote\"].str.strip().str[0].str.upper()           # 'D' or 'R'\n",
    "s = pd.to_numeric(df_2000[\"obesity_index\"].astype(str).str.rstrip(\"%\"), errors=\"coerce\")\n",
    "df_2000[\"obesity_frac\"] = s / 100.0 \n",
    "\n",
    "\n",
    "centers = {\"D\": 0.0, \"R\": 1.0}\n",
    "rng = np.random.default_rng(42)\n",
    "df_2000[\"xpos\"] = df_2000[\"vote\"].map(centers) + rng.uniform(-0.18, 0.18, len(df_2000))\n",
    "\n",
    "fig_2000 = px.scatter(\n",
    "    df_2000, x=\"xpos\", y=\"obesity_frac\", color=\"vote\", hover_name=\"state\",\n",
    "    color_discrete_map={\"D\":\"#1f77b4\",\"R\":\"#d62728\"},\n",
    "    labels={\"obesity_frac\":\"Obesity index\"},\n",
    "    title=\"Year 2000 Election\",\n",
    ")\n",
    "fig_2000.update_traces(marker=dict(size=9, opacity=0.85))\n",
    "\n",
    "fig_2000.update_xaxes(\n",
    "    tickmode=\"array\",\n",
    "    tickvals=[0, 1],\n",
    "    ticktext=[\"Democrat\", \"Republican\"],\n",
    "    range=[-0.5, 1.5],\n",
    "    title=\"\"\n",
    ")\n",
    "fig_2000.update_yaxes(tickformat=\".0%\", title=\"Obesity index\", rangemode=\"tozero\")\n",
    "fig_2000.show()\n",
    "\n",
    "\n",
    "df_2004[\"vote\"] = df_2004[\"vote\"].str.strip().str[0].str.upper()           # 'D' or 'R'\n",
    "s = pd.to_numeric(df_2004[\"obesity_index\"].astype(str).str.rstrip(\"%\"), errors=\"coerce\")\n",
    "df_2004[\"obesity_frac\"] = s / 100.0 \n",
    "\n",
    "centers = {\"D\": 0.0, \"R\": 1.0}\n",
    "rng = np.random.default_rng(42)\n",
    "df_2004[\"xpos\"] = df_2004[\"vote\"].map(centers) + rng.uniform(-0.18, 0.18, len(df_2004))\n",
    "\n",
    "fig_2004 = px.scatter(\n",
    "    df_2004, x=\"xpos\", y=\"obesity_frac\", color=\"vote\", hover_name=\"state\",\n",
    "    color_discrete_map={\"D\":\"#1f77b4\",\"R\":\"#d62728\"},\n",
    "    labels={\"obesity_frac\":\"obesity index\"},\n",
    "    title=\"Year 2004 Election\",\n",
    ")\n",
    "fig_2004.update_traces(marker=dict(size=9, opacity=0.85))\n",
    "\n",
    "fig_2004.update_xaxes(\n",
    "    tickmode=\"array\",\n",
    "    tickvals=[0, 1],\n",
    "    ticktext=[\"Democrat\", \"Republican\"],\n",
    "    range=[-0.5, 1.5],\n",
    "    title=\"\"\n",
    ")\n",
    "fig_2004.update_yaxes(tickformat=\".0%\", title=\"Obesity index\", rangemode=\"tozero\")\n",
    "fig_2004.show()"
   ]
  },
  {
   "cell_type": "markdown",
   "id": "1f25de3d",
   "metadata": {},
   "source": [
    "### Now lets build the classifier:\n",
    "#### Start with determining which is the optimal value for k:"
   ]
  },
  {
   "cell_type": "code",
   "execution_count": 54,
   "id": "9afebb71",
   "metadata": {},
   "outputs": [
    {
     "data": {
      "image/png": "[encoded data removed]",
      "text/plain": [
       "<Figure size 640x480 with 1 Axes>"
      ]
     },
     "metadata": {},
     "output_type": "display_data"
    },
    {
     "name": "stdout",
     "output_type": "stream",
     "text": [
      "|   k |   LOOCV_accuracy |\n",
      "|----:|-----------------:|\n",
      "|   1 |           0.6078 |\n",
      "|   2 |           0.6275 |\n",
      "|   3 |           0.6863 |\n",
      "|   4 |           0.7059 |\n",
      "|   5 |           0.7059 |\n",
      "|   6 |           0.7059 |\n",
      "|   7 |           0.7255 |\n",
      "|   8 |           0.7059 |\n",
      "|   9 |           0.7255 |\n",
      "|  10 |           0.6863 |\n",
      "|  11 |           0.6275 |\n",
      "|  12 |           0.6078 |\n",
      "|  13 |           0.6471 |\n",
      "|  14 |           0.6863 |\n",
      "|  15 |           0.7059 |\n",
      "|  16 |           0.7059 |\n",
      "|  17 |           0.7059 |\n",
      "|  18 |           0.6863 |\n",
      "|  19 |           0.6667 |\n",
      "|  20 |           0.7255 |\n",
      "|  21 |           0.7059 |\n",
      "|  22 |           0.7255 |\n",
      "|  23 |           0.6667 |\n",
      "|  24 |           0.6471 |\n",
      "|  25 |           0.6275 |\n",
      "|  26 |           0.6078 |\n",
      "|  27 |           0.5686 |\n",
      "|  28 |           0.6275 |\n",
      "|  29 |           0.6078 |\n",
      "|  30 |           0.6078 |\n",
      "|  31 |           0.5686 |\n",
      "|  32 |           0.549  |\n",
      "|  33 |           0.4314 |\n",
      "|  34 |           0.451  |\n",
      "|  35 |           0.5294 |\n",
      "|  36 |           0.451  |\n",
      "|  37 |           0.6275 |\n",
      "|  38 |           0.6275 |\n",
      "|  39 |           0.6275 |\n",
      "|  40 |           0.6275 |\n",
      "|  41 |           0.6275 |\n",
      "|  42 |           0.6275 |\n",
      "|  43 |           0.6275 |\n",
      "|  44 |           0.6275 |\n",
      "|  45 |           0.6275 |\n",
      "|  46 |           0.6275 |\n",
      "|  47 |           0.6275 |\n",
      "|  48 |           0.6275 |\n",
      "|  49 |           0.6275 |\n",
      "7\n"
     ]
    }
   ],
   "source": [
    "from sklearn.neighbors import KNeighborsClassifier\n",
    "from sklearn.model_selection import LeaveOneOut, GridSearchCV,cross_val_score\n",
    "\n",
    "\n",
    "x_train = df_2004[[\"obesity_index\"]]\n",
    "y_train = df_2004[\"vote\"]\n",
    "\n",
    "x_test = df_2000[[\"obesity_index\"]]\n",
    "y_test = df_2000[\"vote\"]\n",
    "\n",
    "k_values = [i for i in range (1,50)]\n",
    "scores = []\n",
    "\n",
    "loo = LeaveOneOut()\n",
    "for k in range(1, 50):\n",
    "    knn = KNeighborsClassifier(n_neighbors=k)\n",
    "    score = cross_val_score(knn, x_train, y_train, cv=loo).mean()\n",
    "    scores.append((score))\n",
    "\n",
    "plt.plot(k_values, scores, marker='o')\n",
    "plt.xlabel(\"K Values\")\n",
    "plt.ylabel(\"Accuracy Score\")\n",
    "plt.title(\"k-NN Accuracy vs K\")\n",
    "plt.show()\n",
    "\n",
    "tbl = pd.DataFrame({\"k\": k_values, \"LOOCV_accuracy\": scores})\n",
    "print(tbl.round(4).to_markdown(index=False))\n",
    "\n",
    "best_index = np.argmax(scores)\n",
    "best_k = k_values[best_index]\n",
    "\n",
    "print(best_k)\n"
   ]
  },
  {
   "cell_type": "markdown",
   "id": "81deb63a",
   "metadata": {},
   "source": [
    "#### After determining that 7 is the optimal k, we can train the classifier:"
   ]
  },
  {
   "cell_type": "code",
   "execution_count": 55,
   "id": "cf951f31",
   "metadata": {},
   "outputs": [
    {
     "name": "stdout",
     "output_type": "stream",
     "text": [
      "0.27450980392156865\n",
      "0.5294117647058824\n"
     ]
    }
   ],
   "source": [
    "from sklearn.metrics import accuracy_score\n",
    "\n",
    "model = KNeighborsClassifier(n_neighbors=best_k)\n",
    "model.fit(x_train, y_train)\n",
    "predictions = model.predict(x_test)\n",
    "\n",
    "#Resampling error\n",
    "scores = cross_val_score(model, x_train, y_train, cv=loo)\n",
    "resampling_error = 1 - scores.mean()\n",
    "print(resampling_error)\n",
    "\n",
    "#Test error\n",
    "test_error = 1 - accuracy_score(y_test, predictions)\n",
    "print(test_error)"
   ]
  },
  {
   "cell_type": "markdown",
   "id": "1f60d636",
   "metadata": {},
   "source": [
    "#### Now plot the predictions"
   ]
  },
  {
   "cell_type": "code",
   "execution_count": 56,
   "id": "04de0d9a",
   "metadata": {},
   "outputs": [
    {
     "data": {
      "image/png": "[encoded data removed]",
      "text/plain": [
       "<Figure size 640x480 with 1 Axes>"
      ]
     },
     "metadata": {},
     "output_type": "display_data"
    }
   ],
   "source": [
    "df_2000[\"pred_vote\"] = predictions\n",
    "# True labels\n",
    "plt.scatter(df_2000[\"vote\"], df_2000[\"obesity_index\"], \n",
    "            color=\"blue\", label=\"True\")\n",
    "\n",
    "# Predicted labels\n",
    "plt.scatter(df_2000[\"pred_vote\"], df_2000[\"obesity_index\"], \n",
    "            color=\"red\", marker=\"x\", label=\"Predicted\")\n",
    "\n",
    "plt.xlabel(\"Vote\")\n",
    "plt.ylabel(\"Obesity index\")\n",
    "plt.title(\"True vs Predicted (2000 Election)\")\n",
    "plt.legend()\n",
    "plt.show()"
   ]
  },
  {
   "cell_type": "markdown",
   "id": "b2f31962",
   "metadata": {},
   "source": [
    "### Now lets put all results togehter:\n",
    "\n",
    "| Resampling Error | Resampling Accuracy | Best k | Test Error | Test Accuracy |\n",
    "|------------------|----------------------|--------|------------|---------------|\n",
    "| 27.45%           | 72.55%               |   7    | 52.94%     | 47.06%        |\n",
    "\n",
    "\n",
    "### Discussion\n",
    "\n",
    "The model performs pretty good on the test data. A resampling error of 27,45% eans that the accuracy during resampling was ~72,55%. So on the training data the model looks fairly good. However on the test data it performed very bad. A test error of 52,94% means that the model was only right around 47% of the time, which on a binary classification problem is just as bad as guessing. The large gap between the resampling error and the test error suggests overfitting which means that the model performes well on known training data but did not generalize well to new data. In practice that means the predictor (obesity index) alone might not be enough to predict vote reliably.\n",
    "\n"
   ]
  },
  {
   "cell_type": "markdown",
   "id": "84e1013a",
   "metadata": {},
   "source": [
    "## Problem 2.8\n",
    "### Repeat 2.7 but swith test an training data\n"
   ]
  },
  {
   "cell_type": "code",
   "execution_count": 57,
   "id": "ed88d214",
   "metadata": {},
   "outputs": [
    {
     "data": {
      "image/png": "[encoded data removed]",
      "text/plain": [
       "<Figure size 640x480 with 1 Axes>"
      ]
     },
     "metadata": {},
     "output_type": "display_data"
    },
    {
     "name": "stdout",
     "output_type": "stream",
     "text": [
      "|   k |   LOOCV_accuracy |\n",
      "|----:|-----------------:|\n",
      "|   1 |           0.6078 |\n",
      "|   2 |           0.549  |\n",
      "|   3 |           0.5882 |\n",
      "|   4 |           0.5882 |\n",
      "|   5 |           0.5882 |\n",
      "|   6 |           0.5294 |\n",
      "|   7 |           0.5882 |\n",
      "|   8 |           0.5098 |\n",
      "|   9 |           0.5882 |\n",
      "|  10 |           0.5686 |\n",
      "|  11 |           0.549  |\n",
      "|  12 |           0.6078 |\n",
      "|  13 |           0.6078 |\n",
      "|  14 |           0.6078 |\n",
      "|  15 |           0.6078 |\n",
      "|  16 |           0.6275 |\n",
      "|  17 |           0.6078 |\n",
      "|  18 |           0.6078 |\n",
      "|  19 |           0.5294 |\n",
      "|  20 |           0.5882 |\n",
      "|  21 |           0.5098 |\n",
      "|  22 |           0.5882 |\n",
      "|  23 |           0.6078 |\n",
      "|  24 |           0.6275 |\n",
      "|  25 |           0.6275 |\n",
      "|  26 |           0.6275 |\n",
      "|  27 |           0.6275 |\n",
      "|  28 |           0.6275 |\n",
      "|  29 |           0.6078 |\n",
      "|  30 |           0.5882 |\n",
      "|  31 |           0.5686 |\n",
      "|  32 |           0.5882 |\n",
      "|  33 |           0.5882 |\n",
      "|  34 |           0.5882 |\n",
      "|  35 |           0.5882 |\n",
      "|  36 |           0.5882 |\n",
      "|  37 |           0.3922 |\n",
      "|  38 |           0.5686 |\n",
      "|  39 |           0.451  |\n",
      "|  40 |           0.3922 |\n",
      "|  41 |           0.5882 |\n",
      "|  42 |           0.5882 |\n",
      "|  43 |           0.5882 |\n",
      "|  44 |           0.5882 |\n",
      "|  45 |           0.5882 |\n",
      "|  46 |           0.5882 |\n",
      "|  47 |           0.5882 |\n",
      "|  48 |           0.5882 |\n",
      "|  49 |           0.5882 |\n",
      "Best k:16\n"
     ]
    }
   ],
   "source": [
    "from sklearn.neighbors import KNeighborsClassifier\n",
    "from sklearn.model_selection import LeaveOneOut, GridSearchCV,cross_val_score\n",
    "\n",
    "x_train = df_2000[[\"obesity_index\"]]\n",
    "y_train = df_2000[\"vote\"]\n",
    "\n",
    "x_test = df_2004[[\"obesity_index\"]]\n",
    "y_test = df_2004[\"vote\"]\n",
    "\n",
    "k_values = [i for i in range (1,50)]\n",
    "scores = []\n",
    "\n",
    "loo = LeaveOneOut()\n",
    "for k in range(1, 50):\n",
    "    knn = KNeighborsClassifier(n_neighbors=k)\n",
    "    score = cross_val_score(knn, x_train, y_train, cv=loo).mean()\n",
    "    scores.append((score))\n",
    "\n",
    "plt.plot(k_values, scores, marker='o')\n",
    "plt.xlabel(\"K Values\")\n",
    "plt.ylabel(\"Accuracy Score\")\n",
    "plt.title(\"k-NN Accuracy vs K\")\n",
    "plt.show()\n",
    "\n",
    "tbl = pd.DataFrame({\"k\": k_values, \"LOOCV_accuracy\": scores})\n",
    "print(tbl.round(4).to_markdown(index=False))\n",
    "\n",
    "\n",
    "best_index = np.argmax(scores)\n",
    "best_k = k_values[best_index]\n",
    "\n",
    "print(\"Best k:\" + str(best_k))"
   ]
  },
  {
   "cell_type": "code",
   "execution_count": 58,
   "id": "eaaa1737",
   "metadata": {},
   "outputs": [
    {
     "name": "stdout",
     "output_type": "stream",
     "text": [
      "0.37254901960784315\n",
      "0.37254901960784315\n"
     ]
    }
   ],
   "source": [
    "from sklearn.metrics import accuracy_score\n",
    "\n",
    "model = KNeighborsClassifier(n_neighbors=best_k)\n",
    "model.fit(x_train, y_train)\n",
    "predictions = model.predict(x_test)\n",
    "\n",
    "#Resampling error\n",
    "scores = cross_val_score(model, x_train, y_train, cv=loo)\n",
    "resampling_error = 1 - scores.mean()\n",
    "print(resampling_error)\n",
    "\n",
    "#Test error\n",
    "test_error = 1 - accuracy_score(y_test, predictions)\n",
    "print(test_error)"
   ]
  },
  {
   "cell_type": "code",
   "execution_count": 59,
   "id": "b6082549",
   "metadata": {},
   "outputs": [
    {
     "data": {
      "image/png": "[encoded data removed]",
      "text/plain": [
       "<Figure size 640x480 with 1 Axes>"
      ]
     },
     "metadata": {},
     "output_type": "display_data"
    }
   ],
   "source": [
    "df_2000[\"pred_vote\"] = predictions\n",
    "# True labels\n",
    "plt.scatter(df_2000[\"vote\"], df_2000[\"obesity_index\"], \n",
    "            color=\"blue\", label=\"True\")\n",
    "\n",
    "# Predicted labels\n",
    "plt.scatter(df_2000[\"pred_vote\"], df_2000[\"obesity_index\"], \n",
    "            color=\"red\", marker=\"x\", label=\"Predicted\")\n",
    "\n",
    "plt.xlabel(\"Vote\")\n",
    "plt.ylabel(\"Obesity index\")\n",
    "plt.title(\"True vs Predicted (2000 Election)\")\n",
    "plt.legend()\n",
    "plt.show()"
   ]
  },
  {
   "cell_type": "markdown",
   "id": "235e91aa",
   "metadata": {},
   "source": [
    "| Resampling Error | Resampling Accuracy | Best k | Test Error | Test Accuracy |\n",
    "|------------------|----------------------|--------|------------|---------------|\n",
    "| 37.25%           | 62.75%               |   16   | 37.25%     | 62.75%        |\n",
    "\n",
    "### Changes\n",
    "We can see that with swapping test and training detter we get much better performance on new data but slightly worse performance on already known data. Also resampling error and test error are the same which suggests that there es neither under- nor overfitting. The model generalizes well to new data. "
   ]
  },
  {
   "cell_type": "markdown",
   "id": "5141a355",
   "metadata": {},
   "source": [
    "## Problem 2.11\n",
    "#### First lets generate the data:"
   ]
  },
  {
   "cell_type": "code",
   "execution_count": 60,
   "id": "c35d09c9",
   "metadata": {},
   "outputs": [
    {
     "name": "stdout",
     "output_type": "stream",
     "text": [
      "x: [0.37454012 0.95071431 0.73199394 0.59865848 0.15601864 0.15599452\n",
      " 0.05808361 0.86617615 0.60111501 0.70807258]\n",
      "y: [-0.05700288  1.27020914  0.37730568  0.18539295  0.16092482 -0.91670638\n",
      " -0.85327685  0.55573497 -0.0849648   0.7292977 ]\n"
     ]
    }
   ],
   "source": [
    "import numpy as np\n",
    "\n",
    "np.random.seed(42)  # for reproducibility\n",
    "\n",
    "n = 10\n",
    "x = np.random.uniform(0, 1, n)\n",
    "noise = np.random.normal(0, 0.5, n)\n",
    "y = x**2 + 0.1*x + noise\n",
    "\n",
    "print(\"x:\", x)\n",
    "print(\"y:\", y)\n",
    "\n"
   ]
  },
  {
   "cell_type": "markdown",
   "id": "1d80d74e",
   "metadata": {},
   "source": [
    "#### Now we want to find an optimal regressions model using trigonometric polynomial estimators.\n",
    "\n",
    "Since we want to use the analytic schwarz criterion, we need to use the following equation:\n",
    "\n",
    "$$\\text{BIC}=n\\,\\ln\\!\\left(\\frac{\\mathrm{RSS}}{n}\\right)+k\\ln(n)$$\n",
    "\n",
    "We can use this simpliefied equation because our model is a regression with normally distributed errors. \n",
    "\n",
    "First ne need to build the design matrix of features. The design matrix stacks the cosine basis features for all points so we can use standard linear-regression tools (OLS and BIC) efficiently\n",
    "\n",
    "$$\n",
    "X_m=\\big[\\,\\mathbf 1,\\ \\cos(2\\pi x),\\ \\cos(4\\pi x),\\ \\ldots,\\ \\cos(2\\pi m x)\\,\\big]\n",
    "$$\n",
    "\n",
    "\n",
    "\n",
    "\n",
    "\n"
   ]
  },
  {
   "cell_type": "code",
   "execution_count": 61,
   "id": "3410d836",
   "metadata": {},
   "outputs": [],
   "source": [
    "def trig_design_matrix(x, m: int):\n",
    "    x = np.asarray(x)\n",
    "    X = np.ones((x.size, m + 1))\n",
    "    for i in range(1, m + 1):\n",
    "        X[:, i] = np.cos(2*np.pi*i*x)\n",
    "    return X"
   ]
  },
  {
   "cell_type": "markdown",
   "id": "0e2fabc1",
   "metadata": {},
   "source": [
    "In the next step we need parameter estimates to produce predictions and residuals for each candidate model m. OLS is the maximum likelihood estimator under Gaussian noise and is simple and stable via least squares. \n",
    "\n",
    "OLS estimate\n",
    "$$\n",
    "\\hat{\\mathbf w}=\\arg\\min_{\\mathbf w}\\|y-X_m\\mathbf w\\|^2\n",
    "$$\n",
    "\n"
   ]
  },
  {
   "cell_type": "code",
   "execution_count": 62,
   "id": "817e12b0",
   "metadata": {},
   "outputs": [],
   "source": [
    "def fit_ols(X, y):\n",
    "    w_hat, *_ = np.linalg.lstsq(X, y, rcond=None)\n",
    "    y_hat = X @ w_hat\n",
    "    return w_hat, y_hat"
   ]
  },
  {
   "cell_type": "markdown",
   "id": "b8878964",
   "metadata": {},
   "source": [
    "Next we compute RSS. BIC uses the likelihood; with Gaussian errors this reduces to the residual sum of squares - RSS. \n",
    "\n",
    "Predictions and residuals\n",
    "$$\n",
    "\\hat y=X_m\\hat{\\mathbf w},\\qquad r=y-\\hat y\n",
    "$$\n",
    "\n",
    "Residual sum of squares\n",
    "$$\n",
    "\\mathrm{RSS}=r^\\top r=\\sum_{j=1}^{n}(y_j-\\hat y_j)^2\n",
    "$$"
   ]
  },
  {
   "cell_type": "code",
   "execution_count": 63,
   "id": "e3d886b1",
   "metadata": {},
   "outputs": [],
   "source": [
    "def rss_from_yhat(y, y_hat):\n",
    "    r = y - y_hat\n",
    "    return float(r @ r)"
   ]
  },
  {
   "cell_type": "markdown",
   "id": "796a95cd",
   "metadata": {},
   "source": [
    "Now we are able to compute BIC\n",
    "\n",
    "BIC (Gaussian noise, \\(k=m+1\\))\n",
    "$$\n",
    "\\mathrm{BIC}(m)=n\\ln\\!\\left(\\frac{\\mathrm{RSS}}{n}\\right)+k\\ln n,\\qquad k=m+1\n",
    "$$\n",
    "\n",
    "And finally select the optimal model:"
   ]
  },
  {
   "cell_type": "code",
   "execution_count": 64,
   "id": "30299f24",
   "metadata": {},
   "outputs": [
    {
     "name": "stdout",
     "output_type": "stream",
     "text": [
      "|   m |   k |     RSS |    R_emp |   r(p,n) |   Schwarz_risk |\n",
      "|----:|----:|--------:|---------:|---------:|---------------:|\n",
      "|   0 |   1 | 4.04883 | 0.404883 |  1.25584 |       0.508469 |\n",
      "|   1 |   2 | 4.04574 | 0.404574 |  1.57565 |       0.637465 |\n",
      "|   2 |   3 | 3.91747 | 0.391747 |  1.98682 |       0.778331 |\n",
      "|   3 |   4 | 3.64113 | 0.364113 |  2.53506 |       0.923048 |\n",
      "|   4 |   5 | 3.51504 | 0.351504 |  3.30259 |       1.16087  |\n",
      "|   5 |   6 | 3.19143 | 0.319143 |  4.45388 |       1.42142  |\n",
      "|   6 |   7 | 2.89232 | 0.289232 |  6.3727  |       1.84319  |\n",
      "|   7 |   8 | 2.83711 | 0.283711 | 10.2103  |       2.89678  |\n",
      "\n",
      "Best m by analytic Schwarz: m* = 0\n"
     ]
    }
   ],
   "source": [
    "def schwarz_risk_from_rss(rss, n, k):\n",
    "    # R_emp = RSS/n ; p = k/n ; r(p,n) = 1 + [p/(1-p)] * ln n\n",
    "    R_emp = rss / n\n",
    "    p = k / n\n",
    "    if k >= n:  # safety: avoid division by zero if residual df <= 0\n",
    "        return np.inf, R_emp, np.inf\n",
    "    r = 1.0 + (p/(1.0 - p)) * np.log(n)\n",
    "    return R_emp * r, R_emp, r  # (Schwarz \"risk\", R_emp, multiplier)\n",
    "\n",
    "x01 = (x - x.min())/(x.max() - x.min()) if x.max() > x.min() else np.zeros_like(x)\n",
    "\n",
    "Mmax = 7  # n - df_min - 1 = 10 - 2 - 1\n",
    "rows = []\n",
    "best = {\"risk\": np.inf}\n",
    "\n",
    "for m in range(Mmax + 1):\n",
    "    X = trig_design_matrix(x01, m)              # was: trig_design_matrix(x, m)\n",
    "    w_hat, y_hat = fit_ols(X, y)\n",
    "    rss = rss_from_yhat(y, y_hat)\n",
    "    k = m + 1\n",
    "\n",
    "    risk, R_emp, rpn = schwarz_risk_from_rss(rss, n=len(x), k=k)  # NEW score\n",
    "    rows.append({\n",
    "        \"m\": m, \"k\": k, \"RSS\": rss, \"R_emp\": R_emp,\n",
    "        \"r(p,n)\": rpn, \"Schwarz_risk\": risk\n",
    "    })\n",
    "\n",
    "    if risk < best[\"risk\"]:\n",
    "        best.update({\"m\": m, \"w\": w_hat, \"risk\": risk})\n",
    "\n",
    "results = pd.DataFrame(rows)\n",
    "print(results.to_markdown(index=False))\n",
    "print(f\"\\nBest m by analytic Schwarz: m* = {best['m']}\")"
   ]
  },
  {
   "cell_type": "markdown",
   "id": "f86decaa",
   "metadata": {},
   "source": [
    "#### **Interpretation**\n",
    "\n",
    "In the table we can see that that the model with the pest performance to complexity ratio is k=1 results in a linear graph. Although RSS changes pretty slowly we see the penalty becoming very high when comparing the models. Also we see that at k=8 BIC is almost the same as at k=1. Using the Occam's razor we prefer the simpler model when two models have similar performance but one is higher in complexity."
   ]
  },
  {
   "cell_type": "markdown",
   "id": "4398426b",
   "metadata": {},
   "source": [
    "#### Visualization of results"
   ]
  },
  {
   "cell_type": "code",
   "execution_count": 65,
   "id": "85516c98",
   "metadata": {},
   "outputs": [
    {
     "data": {
      "image/png": "[encoded data removed]",
      "text/plain": [
       "<Figure size 640x480 with 1 Axes>"
      ]
     },
     "metadata": {},
     "output_type": "display_data"
    },
    {
     "data": {
      "image/png": "[encoded data removed]",
      "text/plain": [
       "<Figure size 640x480 with 1 Axes>"
      ]
     },
     "metadata": {},
     "output_type": "display_data"
    }
   ],
   "source": [
    "# --- Plot Schwarz risk vs m (highlight m*) ---\n",
    "best_row = results.loc[results[\"Schwarz_risk\"].idxmin()]\n",
    "m_star = int(best_row[\"m\"])\n",
    "risk_star = float(best_row[\"Schwarz_risk\"])\n",
    "\n",
    "plt.figure()\n",
    "plt.plot(results[\"m\"], results[\"Schwarz_risk\"], marker=\"o\")\n",
    "plt.axvline(m_star, linestyle=\"--\", linewidth=1)\n",
    "plt.scatter([m_star], [risk_star], s=60, zorder=3)\n",
    "plt.xlabel(\"m (number of cosine terms)\")\n",
    "plt.ylabel(r\"$\\widehat{R}_{\\text{Schwarz}}$\")\n",
    "plt.title(\"Analytic Schwarz risk vs m (trigonometric)\")\n",
    "plt.grid(alpha=0.3)\n",
    "plt.show()\n",
    "\n",
    "# --- Regression fit for the selected m* ---\n",
    "# use the SAME scaling as for training: x -> x01 via min/max of x\n",
    "a, b = x.min(), x.max()\n",
    "def to01(z): \n",
    "    return (z - a)/(b - a) if b > a else np.zeros_like(z)\n",
    "\n",
    "xx = np.linspace(a, b, 400)\n",
    "Xg = trig_design_matrix(to01(xx), m_star)\n",
    "y_fit = Xg @ best[\"w\"]\n",
    "\n",
    "# (optional) true function for reference\n",
    "y_true = xx**2 + 0.1*xx\n",
    "\n",
    "plt.figure()\n",
    "plt.scatter(x, y, label=\"data\")\n",
    "plt.plot(xx, y_true, linestyle=\"--\", label=\"true function\")\n",
    "plt.plot(xx, y_fit, label=f\"fit (m*={m_star})\")\n",
    "plt.xlabel(\"x\")\n",
    "plt.ylabel(\"y\")\n",
    "plt.title(\"Selected trigonometric regression\")\n",
    "plt.legend()\n",
    "plt.grid(alpha=0.3)\n",
    "plt.show()\n"
   ]
  },
  {
   "cell_type": "markdown",
   "id": "6e2a64e0",
   "metadata": {},
   "source": [
    "Since the data is "
   ]
  },
  {
   "cell_type": "markdown",
   "id": "c1f87b1a",
   "metadata": {},
   "source": [
    "## 2.11 b)\n",
    "\n",
    "### **Algebraic polynomial estimators**\n",
    "\n",
    "$$\n",
    "f_m(x)=w_0+w_1x+w_2x^2+\\cdots+w_mx^m\n",
    "$$\n",
    "\n",
    "**Design matrix (Vandermonde in \\(x\\))**\n",
    "$$\n",
    "X_m=\\big[\\,\\mathbf 1,\\ x,\\ x^2,\\ \\ldots,\\ x^m\\,\\big]\\in\\mathbb{R}^{n\\times(m+1)}.\n",
    "$$\n",
    "\n"
   ]
  },
  {
   "cell_type": "code",
   "execution_count": 66,
   "id": "94aec90f",
   "metadata": {},
   "outputs": [],
   "source": [
    "def alg_design_matrix(x,m):\n",
    "    x = np.asarray(x)\n",
    "    X = np.ones((x.size, m + 1))\n",
    "    for i in range(1, m + 1):\n",
    "        X[:, i] = x**i\n",
    "    return X"
   ]
  },
  {
   "cell_type": "markdown",
   "id": "06e86bee",
   "metadata": {},
   "source": [
    "**OLS fit and residuals**\n",
    "$$\n",
    "\\hat{\\mathbf w}=\\arg\\min_{\\mathbf w}\\|y-X_m\\mathbf w\\|^2,\\qquad\n",
    "\\hat y=X_m\\hat{\\mathbf w},\\qquad\n",
    "\\mathrm{RSS}_m=\\sum_{j=1}^n (y_j-\\hat y_j)^2.\n",
    "$$"
   ]
  },
  {
   "cell_type": "code",
   "execution_count": 67,
   "id": "7a070128",
   "metadata": {},
   "outputs": [],
   "source": [
    "def fit_ols_and_rss(X, y):\n",
    "    \"\"\"Return w_hat, y_hat, rss for OLS on design matrix X.\"\"\"\n",
    "    w_hat, *_ = np.linalg.lstsq(X, y, rcond=None)\n",
    "    y_hat = X @ w_hat\n",
    "    rss = float(np.sum((y - y_hat)**2))\n",
    "    return w_hat, y_hat, rss"
   ]
  },
  {
   "cell_type": "markdown",
   "id": "e1317d22",
   "metadata": {},
   "source": [
    "**BIC for Gaussian regression**\n",
    "$$\n",
    "\\mathrm{BIC}(m)=n\\ln\\!\\left(\\frac{\\mathrm{RSS}_m}{n}\\right)+k_m\\ln n,\n",
    "\\qquad k_m=m+1.\n",
    "$$"
   ]
  },
  {
   "cell_type": "code",
   "execution_count": 68,
   "id": "83107daf",
   "metadata": {},
   "outputs": [],
   "source": [
    "def schwarz_risk_from_rss(rss, n, k):\n",
    "    # slide: r(p,n) = 1 + [p/(1-p)] * ln n, with p = k/n and R_emp = RSS/n\n",
    "    R_emp = rss / n\n",
    "    p = k / n\n",
    "    if k >= n:                      # safety: avoid division by zero / negative df\n",
    "        return np.inf, R_emp, np.inf\n",
    "    r = 1.0 + (p/(1.0 - p)) * np.log(n)\n",
    "    return R_emp * r, R_emp, r      # (Schwarz risk, R_emp, multiplier)"
   ]
  },
  {
   "cell_type": "markdown",
   "id": "b72733e3",
   "metadata": {},
   "source": [
    "**Model selection**\n",
    "$$\n",
    "m^\\*=\\arg\\min_{m\\in\\{0,\\dots,m_{\\max}\\}}\\ \\mathrm{BIC}(m).\n",
    "$$"
   ]
  },
  {
   "cell_type": "code",
   "execution_count": 69,
   "id": "76dd880f",
   "metadata": {},
   "outputs": [
    {
     "name": "stdout",
     "output_type": "stream",
     "text": [
      "|   m |   k |      RSS |     R_emp |   r(p,n) |   Schwarz_risk |\n",
      "|----:|----:|---------:|----------:|---------:|---------------:|\n",
      "|   0 |   1 | 4.04883  | 0.404883  |  1.25584 |       0.508469 |\n",
      "|   1 |   2 | 1.0474   | 0.10474   |  1.57565 |       0.165033 |\n",
      "|   2 |   3 | 0.999152 | 0.0999152 |  1.98682 |       0.198514 |\n",
      "|   3 |   4 | 0.875019 | 0.0875019 |  2.53506 |       0.221822 |\n",
      "|   4 |   5 | 0.869353 | 0.0869353 |  3.30259 |       0.287111 |\n",
      "|   5 |   6 | 0.827483 | 0.0827483 |  4.45388 |       0.368551 |\n",
      "|   6 |   7 | 0.704326 | 0.0704326 |  6.3727  |       0.448846 |\n",
      "|   7 |   8 | 0.632242 | 0.0632242 | 10.2103  |       0.64554  |\n",
      "\n",
      "Best degree by analytic Schwarz: m* = 1\n"
     ]
    }
   ],
   "source": [
    "rows = []\n",
    "best = {\"m\": None, \"risk\": np.inf, \"w\": None}\n",
    "\n",
    "m_max = 7  # or max_m_from_df(len(x), df_min=2)\n",
    "\n",
    "for m in range(m_max + 1):\n",
    "    X = alg_design_matrix(x, m)            # same design matrix as before\n",
    "    w_hat, y_hat, rss = fit_ols_and_rss(X, y)\n",
    "    k = m + 1\n",
    "\n",
    "    risk, R_emp, rpn = schwarz_risk_from_rss(rss, n=len(x), k=k)  # NEW score\n",
    "    rows.append({\n",
    "        \"m\": m, \"k\": k, \"RSS\": rss, \"R_emp\": R_emp,\n",
    "        \"r(p,n)\": rpn, \"Schwarz_risk\": risk\n",
    "        # optional sanity check: \"BIC\": bic_from_rss(rss, n=len(x), k=k)\n",
    "    })\n",
    "\n",
    "    if risk < best[\"risk\"]:\n",
    "        best.update({\"m\": m, \"risk\": risk, \"w\": w_hat})\n",
    "\n",
    "results = pd.DataFrame(rows)\n",
    "print(results.to_markdown(index=False))\n",
    "print(f\"\\nBest degree by analytic Schwarz: m* = {best['m']}\")"
   ]
  },
  {
   "cell_type": "markdown",
   "id": "6388fd60",
   "metadata": {},
   "source": [
    "### **Interpretation**\n",
    "Here we see the lowest BIC at k=2. After that the penalty to performance ratio gets worse, so BIC increases again. What stands out is the harsh drop in RSS and BIC from k=1 to k=2. That suggests that there is a big increase in performance with little added complexity. Since the data appears to have a linear trend that is in line with expectations. "
   ]
  },
  {
   "cell_type": "markdown",
   "id": "815da8dd",
   "metadata": {},
   "source": [
    "### **Plot the results:**"
   ]
  },
  {
   "cell_type": "code",
   "execution_count": 74,
   "id": "39749313",
   "metadata": {},
   "outputs": [
    {
     "data": {
      "image/png": "[encoded data removed]",
      "text/plain": [
       "<Figure size 640x480 with 1 Axes>"
      ]
     },
     "metadata": {},
     "output_type": "display_data"
    },
    {
     "data": {
      "image/png": "[encoded data removed]",
      "text/plain": [
       "<Figure size 640x480 with 1 Axes>"
      ]
     },
     "metadata": {},
     "output_type": "display_data"
    }
   ],
   "source": [
    "# --- Analytic Schwarz curve (POLYNOMIAL) ---\n",
    "# assumes `results` has columns [\"m\",\"Schwarz_risk\"] for the polynomial family\n",
    "# and `best` holds the chosen degree m and weights for that family.\n",
    "\n",
    "m_star = int(best[\"m\"])\n",
    "# get the risk value from the table to avoid any dict mismatch\n",
    "risk_star = float(results.loc[results[\"m\"] == m_star, \"Schwarz_risk\"].values[0])\n",
    "\n",
    "plt.figure()\n",
    "plt.plot(results[\"m\"], results[\"Schwarz_risk\"], marker=\"o\")\n",
    "plt.axvline(m_star, linestyle=\"--\", linewidth=1)\n",
    "plt.scatter([m_star], [risk_star], s=60, zorder=3)\n",
    "plt.xticks(results[\"m\"].astype(int))  # integer ticks at each degree\n",
    "plt.xlabel(\"m (polynomial degree)\")\n",
    "plt.ylabel(r\"$\\widehat{R}_{\\text{Schwarz}}$\")\n",
    "plt.title(\"Analytic Schwarz risk vs m (polynomial, raw x)\")\n",
    "plt.grid(alpha=0.3)\n",
    "plt.show()\n",
    "\n",
    "# --- Regression fit for the selected degree (POLYNOMIAL) ---\n",
    "w_star = best[\"w\"]\n",
    "\n",
    "xx = np.linspace(np.min(x), np.max(x), 400)\n",
    "Xg = np.vander(xx, N=m_star+1, increasing=True)\n",
    "y_fit = Xg @ w_star\n",
    "\n",
    "# optional reference: the true function from Example 2.6\n",
    "y_true = xx**2 + 0.1*xx\n",
    "\n",
    "plt.figure()\n",
    "plt.scatter(x, y, label=\"data\", alpha=0.9)\n",
    "plt.plot(xx, y_true, linestyle=\"--\", label=\"true function\")\n",
    "plt.plot(xx, y_fit, label=fr\"poly fit (m*={m_star})\")\n",
    "plt.xlabel(\"x\"); plt.ylabel(\"y\")\n",
    "plt.title(\"Selected algebraic polynomial regression (raw x)\")\n",
    "plt.legend()\n",
    "plt.grid(alpha=0.3)\n",
    "plt.show()\n"
   ]
  },
  {
   "cell_type": "markdown",
   "id": "48f434a2",
   "metadata": {},
   "source": [
    "## **Problem 2.12**"
   ]
  },
  {
   "cell_type": "code",
   "execution_count": 71,
   "id": "13886105",
   "metadata": {},
   "outputs": [],
   "source": [
    "def kfold_indices(n, K=5, shuffle=True, seed=0):\n",
    "    idx = np.arange(n)\n",
    "    if shuffle:\n",
    "        rng = np.random.default_rng(seed)\n",
    "        rng.shuffle(idx)\n",
    "\n",
    "    folds = np.array_split(idx, K)         \n",
    "    splits = []\n",
    "    for k in range(K):\n",
    "        val_idx = folds[k]\n",
    "        train_idx = np.concatenate([folds[i] for i in range(K) if i != k])\n",
    "        splits.append((train_idx, val_idx))\n",
    "    return splits"
   ]
  },
  {
   "cell_type": "code",
   "execution_count": 72,
   "id": "2662cb0c",
   "metadata": {},
   "outputs": [
    {
     "name": "stdout",
     "output_type": "stream",
     "text": [
      "Fold 5: train=8 samples, val=2 samples\n"
     ]
    }
   ],
   "source": [
    "splits = kfold_indices(n=len(x), K=5, shuffle=True, seed=42)\n",
    "\n",
    "for fold_no, (train_idx, val_idx) in enumerate(splits, start=1):\n",
    "    x_train, y_train = x[train_idx], y[train_idx]\n",
    "    x_val,   y_val   = x[val_idx],   y[val_idx]\n",
    "\n",
    "print(f\"Fold {fold_no}: train={x_train.shape[0]} samples, val={x_val.shape[0]} samples\")"
   ]
  },
  {
   "cell_type": "code",
   "execution_count": 73,
   "id": "bcc2b928",
   "metadata": {},
   "outputs": [
    {
     "name": "stdout",
     "output_type": "stream",
     "text": [
      "Trig 5-fold CV-MSE: 0.8104   (m* per fold: [5, 0, 0, 0, 0])\n",
      "Poly 5-fold CV-MSE: 0.4269   (m* per fold: [2, 1, 1, 4, 1])\n"
     ]
    }
   ],
   "source": [
    "# Make the scorer return a float (risk) for easy comparisons\n",
    "def schwarz_risk_from_rss(rss, n, k):\n",
    "    R_emp = rss / n\n",
    "    p = k / n\n",
    "    if k >= n: \n",
    "        return np.inf            # guard: avoid division by zero / negative df\n",
    "    r = 1.0 + (p/(1.0 - p)) * np.log(n)\n",
    "    return R_emp * r             # <-- float\n",
    "\n",
    "K = 5\n",
    "splits = kfold_indices(n=len(x), K=K, shuffle=True, seed=42)\n",
    "\n",
    "df_min = 2\n",
    "cv_mse_trig, cv_mse_poly = [], []\n",
    "chosen_trig, chosen_poly = [], []\n",
    "\n",
    "for fold_no, (train_idx, val_idx) in enumerate(splits, start=1):\n",
    "    x_tr, y_tr = x[train_idx], y[train_idx]\n",
    "    x_va, y_va = x[val_idx],   y[val_idx]\n",
    "    n_tr = len(x_tr)\n",
    "\n",
    "    # cap m to keep residual df >= df_min\n",
    "    m_cap = max(0, n_tr - df_min - 1)\n",
    "    m_grid = range(m_cap + 1)\n",
    "\n",
    "\n",
    "\n",
    "    best_score, best_m = np.inf, None\n",
    "    for m in m_grid:\n",
    "        Xtr = trig_design_matrix(x_tr, m)\n",
    "        w, _, rss = fit_ols_and_rss(Xtr, y_tr)\n",
    "        score = schwarz_risk_from_rss(rss, n=n_tr, k=m+1)  # use n_tr\n",
    "        if score < best_score:\n",
    "            best_score, best_m, best_w = score, m, w\n",
    "\n",
    "    # refit & validate with the same scaling\n",
    "    Xtr = trig_design_matrix(x_tr, best_m); w, _, _ = fit_ols_and_rss(Xtr, y_tr)\n",
    "    Xva = trig_design_matrix(x_va, best_m); y_pred = Xva @ w\n",
    "    cv_mse_trig.append(np.mean((y_va - y_pred)**2))\n",
    "    chosen_trig.append(best_m)\n",
    "\n",
    "    # ---------- POLY (raw x) ----------\n",
    "    best_score, best_m = np.inf, None\n",
    "    for m in m_grid:\n",
    "        Xtr = alg_design_matrix(x_tr, m)\n",
    "        w, _, rss = fit_ols_and_rss(Xtr, y_tr)\n",
    "        score = schwarz_risk_from_rss(rss, n=n_tr, k=m+1)  # use n_tr\n",
    "        if score < best_score:\n",
    "            best_score, best_m, best_w = score, m, w\n",
    "\n",
    "    Xtr = alg_design_matrix(x_tr, best_m); w, _, _ = fit_ols_and_rss(Xtr, y_tr)\n",
    "    Xva = alg_design_matrix(x_va, best_m); y_pred = Xva @ w\n",
    "    cv_mse_poly.append(np.mean((y_va - y_pred)**2))\n",
    "    chosen_poly.append(best_m)\n",
    "\n",
    "print(f\"Trig 5-fold CV-MSE: {np.mean(cv_mse_trig):.4f}   (m* per fold: {chosen_trig})\")\n",
    "print(f\"Poly 5-fold CV-MSE: {np.mean(cv_mse_poly):.4f}   (m* per fold: {chosen_poly})\")"
   ]
  },
  {
   "cell_type": "markdown",
   "id": "f9fb7b6c",
   "metadata": {},
   "source": [
    "The algebraic line fits the full sample better visually (lower training RSS), but 5-fold CV shows the trigonometric family achieves a lower average test MSE (1.33 vs 2.81). Since CV estimates out-of-sample performance, we prefer the trigonometric estimator for prediction on this dataset.\n"
   ]
  }
 ],
 "metadata": {
  "kernelspec": {
   "display_name": ".venv",
   "language": "python",
   "name": "python3"
  },
  "language_info": {
   "codemirror_mode": {
    "name": "ipython",
    "version": 3
   },
   "file_extension": ".py",
   "mimetype": "text/x-python",
   "name": "python",
   "nbconvert_exporter": "python",
   "pygments_lexer": "ipython3",
   "version": "3.12.6"
  }
 },
 "nbformat": 4,
 "nbformat_minor": 5
}
